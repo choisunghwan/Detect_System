{
  "nbformat": 4,
  "nbformat_minor": 0,
  "metadata": {
    "colab": {
      "provenance": [],
      "collapsed_sections": []
    },
    "kernelspec": {
      "name": "python3",
      "display_name": "Python 3"
    },
    "language_info": {
      "name": "python"
    },
    "accelerator": "GPU",
    "gpuClass": "standard"
  },
  "cells": [
    {
      "cell_type": "markdown",
      "source": [
        "# 1.GPU Setup\n",
        "메뉴>런타임>런타임유형변경>GPU 선택\n",
        "\n",
        "# 2.Mount Google Drive"
      ],
      "metadata": {
        "id": "Ixs1XJB9jQ6-"
      }
    },
    {
      "cell_type": "code",
      "source": [
        "from google.colab import drive\n",
        "drive.mount('/content/gdrive')"
      ],
      "metadata": {
        "colab": {
          "base_uri": "https://localhost:8080/"
        },
        "id": "Hp8NI8EEikdl",
        "outputId": "d9092c40-26e9-45be-d233-d2d5bd8ca932"
      },
      "execution_count": 1,
      "outputs": [
        {
          "output_type": "stream",
          "name": "stdout",
          "text": [
            "Mounted at /content/gdrive\n"
          ]
        }
      ]
    },
    {
      "cell_type": "code",
      "source": [
        "!ls"
      ],
      "metadata": {
        "colab": {
          "base_uri": "https://localhost:8080/"
        },
        "id": "tLLxOS-ajCQ8",
        "outputId": "1ac568aa-66aa-4717-bf88-46596bc99014"
      },
      "execution_count": 2,
      "outputs": [
        {
          "output_type": "stream",
          "name": "stdout",
          "text": [
            "gdrive\tsample_data\n"
          ]
        }
      ]
    },
    {
      "cell_type": "markdown",
      "source": [
        "# 3.Install CUDA related modules\n",
        "Download cuDNN file ->\n",
        "https://developer.nvidia.com/rdp/cudnn-download"
      ],
      "metadata": {
        "id": "agbqWXFOjG_R"
      }
    },
    {
      "cell_type": "code",
      "source": [
        "!/usr/local/cuda/bin/nvcc --version"
      ],
      "metadata": {
        "colab": {
          "base_uri": "https://localhost:8080/"
        },
        "id": "rePmcGpajL8A",
        "outputId": "986394ec-8da7-4a78-d7bd-7be99ef081b6"
      },
      "execution_count": 4,
      "outputs": [
        {
          "output_type": "stream",
          "name": "stdout",
          "text": [
            "nvcc: NVIDIA (R) Cuda compiler driver\n",
            "Copyright (c) 2005-2021 NVIDIA Corporation\n",
            "Built on Sun_Feb_14_21:12:58_PST_2021\n",
            "Cuda compilation tools, release 11.2, V11.2.152\n",
            "Build cuda_11.2.r11.2/compiler.29618528_0\n"
          ]
        }
      ]
    },
    {
      "cell_type": "code",
      "source": [
        "!tar -xzvf /content/drive/MyDrive/darknet/cuDNN/cudnn-11.2-linux-x64-v8.1.1.33.tgz -C /usr/local/\n",
        "!chmod a+r /usr/local/cuda/include/cudnn.h\n"
      ],
      "metadata": {
        "colab": {
          "base_uri": "https://localhost:8080/"
        },
        "id": "DXAarm62naAl",
        "outputId": "151dc160-c0f6-4f72-faed-8356e6194c52"
      },
      "execution_count": 32,
      "outputs": [
        {
          "output_type": "stream",
          "name": "stdout",
          "text": [
            "cuda/include/cudnn.h\n",
            "cuda/include/cudnn_adv_infer.h\n",
            "cuda/include/cudnn_adv_infer_v8.h\n",
            "cuda/include/cudnn_adv_train.h\n",
            "cuda/include/cudnn_adv_train_v8.h\n",
            "cuda/include/cudnn_backend.h\n",
            "cuda/include/cudnn_backend_v8.h\n",
            "cuda/include/cudnn_cnn_infer.h\n",
            "cuda/include/cudnn_cnn_infer_v8.h\n",
            "cuda/include/cudnn_cnn_train.h\n",
            "cuda/include/cudnn_cnn_train_v8.h\n",
            "cuda/include/cudnn_ops_infer.h\n",
            "cuda/include/cudnn_ops_infer_v8.h\n",
            "cuda/include/cudnn_ops_train.h\n",
            "cuda/include/cudnn_ops_train_v8.h\n",
            "cuda/include/cudnn_v8.h\n",
            "cuda/include/cudnn_version.h\n",
            "cuda/include/cudnn_version_v8.h\n",
            "cuda/NVIDIA_SLA_cuDNN_Support.txt\n",
            "cuda/lib64/libcudnn.so\n",
            "cuda/lib64/libcudnn.so.8\n",
            "cuda/lib64/libcudnn.so.8.1.1\n",
            "cuda/lib64/libcudnn_adv_infer.so\n",
            "cuda/lib64/libcudnn_adv_infer.so.8\n",
            "cuda/lib64/libcudnn_adv_infer.so.8.1.1\n",
            "cuda/lib64/libcudnn_adv_train.so\n",
            "cuda/lib64/libcudnn_adv_train.so.8\n",
            "cuda/lib64/libcudnn_adv_train.so.8.1.1\n",
            "cuda/lib64/libcudnn_cnn_infer.so\n",
            "cuda/lib64/libcudnn_cnn_infer.so.8\n",
            "cuda/lib64/libcudnn_cnn_infer.so.8.1.1\n",
            "cuda/lib64/libcudnn_cnn_train.so\n",
            "cuda/lib64/libcudnn_cnn_train.so.8\n",
            "cuda/lib64/libcudnn_cnn_train.so.8.1.1\n",
            "cuda/lib64/libcudnn_ops_infer.so\n",
            "cuda/lib64/libcudnn_ops_infer.so.8\n",
            "cuda/lib64/libcudnn_ops_infer.so.8.1.1\n",
            "cuda/lib64/libcudnn_ops_train.so\n",
            "cuda/lib64/libcudnn_ops_train.so.8\n",
            "cuda/lib64/libcudnn_ops_train.so.8.1.1\n",
            "cuda/lib64/libcudnn_static.a\n",
            "cuda/lib64/libcudnn_static_v8.a\n"
          ]
        }
      ]
    },
    {
      "cell_type": "code",
      "source": [
        "!cat /usr/local/cuda/include/cudnn.h | grep CUDNN_MAJOR -A 2"
      ],
      "metadata": {
        "id": "tsxq_8dOoA6U"
      },
      "execution_count": 33,
      "outputs": []
    },
    {
      "cell_type": "markdown",
      "source": [
        "#4.Install DarkNet\n",
        "DarkNet install https://pjreddie.com/darknet/install/"
      ],
      "metadata": {
        "id": "qVGnrWms1_7J"
      }
    },
    {
      "cell_type": "code",
      "source": [
        "!git clone https://github.com/alexeyab/darknet\n",
        "%cd darknet"
      ],
      "metadata": {
        "colab": {
          "base_uri": "https://localhost:8080/"
        },
        "id": "kXI_RXwW2N4a",
        "outputId": "6fae559e-44ee-4a1c-b7bb-17a865e4412f"
      },
      "execution_count": 59,
      "outputs": [
        {
          "output_type": "stream",
          "name": "stdout",
          "text": [
            "fatal: destination path 'darknet' already exists and is not an empty directory.\n",
            "[Errno 20] Not a directory: 'darknet'\n",
            "/content/darknet/darknet/darknet\n"
          ]
        }
      ]
    },
    {
      "cell_type": "code",
      "source": [
        "!ls"
      ],
      "metadata": {
        "colab": {
          "base_uri": "https://localhost:8080/"
        },
        "id": "5uYIAjWI2nG-",
        "outputId": "de0b7c92-4d52-4072-b80d-da055bd81c47"
      },
      "execution_count": 60,
      "outputs": [
        {
          "output_type": "stream",
          "name": "stdout",
          "text": [
            "3rdparty\tDarknetConfig.cmake.in\tjson_mjpeg_streams.sh  scripts\n",
            "backup\t\tdarknet_images.py\tLICENSE\t\t       src\n",
            "build\t\tdarknet.py\t\tMakefile\t       vcpkg.json\n",
            "build.ps1\tdarknet_video.py\tnet_cam_v3.sh\t       video_yolov3.sh\n",
            "cfg\t\tdata\t\t\tnet_cam_v4.sh\t       video_yolov4.sh\n",
            "cmake\t\timage_yolov3.sh\t\tobj\n",
            "CMakeLists.txt\timage_yolov4.sh\t\tREADME.md\n",
            "darknet\t\tinclude\t\t\tresults\n"
          ]
        }
      ]
    },
    {
      "cell_type": "code",
      "source": [
        "!git checkout feature/google-colab"
      ],
      "metadata": {
        "colab": {
          "base_uri": "https://localhost:8080/"
        },
        "id": "ZfILJg-K2q-O",
        "outputId": "c85e45a6-92c3-4869-9b00-712cef334e24"
      },
      "execution_count": 61,
      "outputs": [
        {
          "output_type": "stream",
          "name": "stdout",
          "text": [
            "error: pathspec 'feature/google-colab' did not match any file(s) known to git.\n"
          ]
        }
      ]
    },
    {
      "cell_type": "code",
      "source": [
        "#Compile DarkNet\n",
        "!make"
      ],
      "metadata": {
        "colab": {
          "base_uri": "https://localhost:8080/"
        },
        "id": "6gCKi_qk2zEb",
        "outputId": "af698b97-530b-48cb-fe94-22a53f6154bb"
      },
      "execution_count": 62,
      "outputs": [
        {
          "output_type": "stream",
          "name": "stdout",
          "text": [
            "chmod +x *.sh\n"
          ]
        }
      ]
    },
    {
      "cell_type": "code",
      "source": [
        "%ls"
      ],
      "metadata": {
        "colab": {
          "base_uri": "https://localhost:8080/"
        },
        "id": "FDVZw51E27sc",
        "outputId": "f8d6d1cd-08f0-4969-a622-429981644720"
      },
      "execution_count": 63,
      "outputs": [
        {
          "output_type": "stream",
          "name": "stdout",
          "text": [
            "\u001b[0m\u001b[01;34m3rdparty\u001b[0m/               darknet.py              \u001b[01;32mnet_cam_v4.sh\u001b[0m*\n",
            "\u001b[01;34mbackup\u001b[0m/                 darknet_video.py        \u001b[01;34mobj\u001b[0m/\n",
            "\u001b[01;34mbuild\u001b[0m/                  \u001b[01;34mdata\u001b[0m/                   README.md\n",
            "\u001b[01;32mbuild.ps1\u001b[0m*              \u001b[01;32mimage_yolov3.sh\u001b[0m*        \u001b[01;34mresults\u001b[0m/\n",
            "\u001b[01;34mcfg\u001b[0m/                    \u001b[01;32mimage_yolov4.sh\u001b[0m*        \u001b[01;34mscripts\u001b[0m/\n",
            "\u001b[01;34mcmake\u001b[0m/                  \u001b[01;34minclude\u001b[0m/                \u001b[01;34msrc\u001b[0m/\n",
            "CMakeLists.txt          \u001b[01;32mjson_mjpeg_streams.sh\u001b[0m*  vcpkg.json\n",
            "\u001b[01;32mdarknet\u001b[0m*                LICENSE                 \u001b[01;32mvideo_yolov3.sh\u001b[0m*\n",
            "DarknetConfig.cmake.in  Makefile                \u001b[01;32mvideo_yolov4.sh\u001b[0m*\n",
            "darknet_images.py       \u001b[01;32mnet_cam_v3.sh\u001b[0m*\n"
          ]
        }
      ]
    },
    {
      "cell_type": "code",
      "source": [
        "import os\n",
        "if not os.path.exists('/content/drive/MyDrive/darknet/bin'):\n",
        "  os.makedirs('/content/drive/MyDrive/darknet/bin')"
      ],
      "metadata": {
        "id": "eIffdVhO3MOh"
      },
      "execution_count": 64,
      "outputs": []
    },
    {
      "cell_type": "code",
      "source": [
        "!cp ./darknet /content/drive/MyDrive/darknet/bin "
      ],
      "metadata": {
        "id": "BCooDJvG35jl"
      },
      "execution_count": 66,
      "outputs": []
    },
    {
      "cell_type": "code",
      "source": [
        "# 1. Makes a darknet direcotry\n",
        "#!mkdir darknet\n",
        "#%cd darknet\n",
        "\n",
        "#2. copy the darknet compiled version to the vm\n",
        "#!cp /content/drive/MyDrive/darknet/bin/darknet ./darknet \n",
        "\n",
        "#3. Set execution permissions\n",
        "# !chmod +x ./darknet"
      ],
      "metadata": {
        "id": "hp_Jup7w7Ogu"
      },
      "execution_count": null,
      "outputs": []
    },
    {
      "cell_type": "code",
      "source": [
        "def imShow(path):\n",
        "  import cv2\n",
        "  import matplotlib.pyplot as plt \n",
        "  %matplotlib inline\n",
        "\n",
        "  image = cv2.imread(path)\n",
        "  height,width=image.shape[:2]\n",
        "  resized_image = cv2.resize(image,(3*width, 3*height),interpolation = cv2.INTER_CUBIC)\n",
        "  \n",
        "  fig = plt.gcg()\n",
        "  fig.set_size_inches(18, 10)\n",
        "  plt.axis(\"off\")\n",
        "  #plt.rcParams['figure.figsize'] = [10, 5]\n",
        "  plt.imshow(cv2.cvtColor(resized_image,cv2.COLOR_BGR2RGB))\n",
        "  plt.show()\n",
        "\n",
        "  def upload():\n",
        "    from google.colab import files\n",
        "    uploaded = files.upload()\n",
        "    for name, data in uploaded.items():\n",
        "      with open(name, 'wb')as f:\n",
        "        f.write(data)\n",
        "        print('saved file',name)\n",
        "  def download(path):\n",
        "    from google.colab import files\n",
        "    files.download(path)\n",
        "    "
      ],
      "metadata": {
        "id": "dtXtfWWM92J2"
      },
      "execution_count": 67,
      "outputs": []
    },
    {
      "cell_type": "code",
      "source": [
        "%ls"
      ],
      "metadata": {
        "colab": {
          "base_uri": "https://localhost:8080/"
        },
        "id": "DSdmdE-QCCoz",
        "outputId": "94cb66b9-b19a-49ce-a0ab-322ec0bcbf85"
      },
      "execution_count": 68,
      "outputs": [
        {
          "output_type": "stream",
          "name": "stdout",
          "text": [
            "\u001b[0m\u001b[01;34m3rdparty\u001b[0m/               darknet.py              \u001b[01;32mnet_cam_v4.sh\u001b[0m*\n",
            "\u001b[01;34mbackup\u001b[0m/                 darknet_video.py        \u001b[01;34mobj\u001b[0m/\n",
            "\u001b[01;34mbuild\u001b[0m/                  \u001b[01;34mdata\u001b[0m/                   README.md\n",
            "\u001b[01;32mbuild.ps1\u001b[0m*              \u001b[01;32mimage_yolov3.sh\u001b[0m*        \u001b[01;34mresults\u001b[0m/\n",
            "\u001b[01;34mcfg\u001b[0m/                    \u001b[01;32mimage_yolov4.sh\u001b[0m*        \u001b[01;34mscripts\u001b[0m/\n",
            "\u001b[01;34mcmake\u001b[0m/                  \u001b[01;34minclude\u001b[0m/                \u001b[01;34msrc\u001b[0m/\n",
            "CMakeLists.txt          \u001b[01;32mjson_mjpeg_streams.sh\u001b[0m*  vcpkg.json\n",
            "\u001b[01;32mdarknet\u001b[0m*                LICENSE                 \u001b[01;32mvideo_yolov3.sh\u001b[0m*\n",
            "DarknetConfig.cmake.in  Makefile                \u001b[01;32mvideo_yolov4.sh\u001b[0m*\n",
            "darknet_images.py       \u001b[01;32mnet_cam_v3.sh\u001b[0m*\n"
          ]
        }
      ]
    }
  ]
}